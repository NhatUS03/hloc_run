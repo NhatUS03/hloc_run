{
 "cells": [
  {
   "cell_type": "code",
   "execution_count": 1,
   "metadata": {},
   "outputs": [],
   "source": [
    "from PIL import Image\n",
    "import torch\n",
    "import torch.nn as nn\n",
    "from torchvision import models\n",
    "from torchvision import datasets, transforms, models\n",
    "import torch.optim as optim\n",
    "from torch.utils.data import DataLoader\n",
    "INPUT_SIZE=256\n",
    "device=torch.device(\"cuda\" if torch.cuda.is_available() else \"cpu\")\n",
    "import cv2\n",
    "import subprocess"
   ]
  },
  {
   "cell_type": "code",
   "execution_count": 2,
   "metadata": {},
   "outputs": [],
   "source": [
    "test_transforms = transforms.Compose([\n",
    "    transforms.Resize((INPUT_SIZE, INPUT_SIZE)),\n",
    "    transforms.ToTensor(),\n",
    "    transforms.Normalize([0.485, 0.456, 0.406], [0.229, 0.224, 0.225])\n",
    "])\n",
    "test_dataset = datasets.ImageFolder(\"../../data/test\", transform=test_transforms)\n",
    "test_loader = DataLoader(test_dataset, batch_size=32, shuffle=False)"
   ]
  },
  {
   "cell_type": "code",
   "execution_count": 3,
   "metadata": {},
   "outputs": [
    {
     "name": "stdout",
     "output_type": "stream",
     "text": [
      "Model successfully loaded on CPU!\n"
     ]
    },
    {
     "name": "stderr",
     "output_type": "stream",
     "text": [
      "/Users/vobahoangnhat/anaconda3/envs/min_ds-env/lib/python3.10/site-packages/torchvision/models/_utils.py:208: UserWarning: The parameter 'pretrained' is deprecated since 0.13 and may be removed in the future, please use 'weights' instead.\n",
      "  warnings.warn(\n",
      "/Users/vobahoangnhat/anaconda3/envs/min_ds-env/lib/python3.10/site-packages/torchvision/models/_utils.py:223: UserWarning: Arguments other than a weight enum or `None` for 'weights' are deprecated since 0.13 and may be removed in the future. The current behavior is equivalent to passing `weights=None`.\n",
      "  warnings.warn(msg)\n"
     ]
    }
   ],
   "source": [
    "# Load the model architecture\n",
    "model = models.mobilenet_v2(pretrained=False)\n",
    "num_classes = len(test_dataset.classes)\n",
    "model.classifier[1] = nn.Linear(model.last_channel, num_classes)\n",
    "\n",
    "# Load the state_dict onto the CPU\n",
    "state_dict = torch.load('../../model/model-01/mobilenet_classification.pth', map_location=torch.device('cpu'))\n",
    "model.load_state_dict(state_dict)\n",
    "\n",
    "# Set the model to evaluation mode\n",
    "model.eval()\n",
    "model=model.to(device)\n",
    "print(\"Model successfully loaded on CPU!\")"
   ]
  },
  {
   "cell_type": "code",
   "execution_count": 4,
   "metadata": {},
   "outputs": [],
   "source": [
    "# Loss function\n",
    "criterion = nn.CrossEntropyLoss()\n",
    "\n",
    "# Optimizer\n",
    "optimizer = optim.Adam(model.parameters(), lr=0.001)\n",
    "\n",
    "# Learning rate scheduler (tùy chọn)\n",
    "scheduler = optim.lr_scheduler.StepLR(optimizer, step_size=7, gamma=0.1)"
   ]
  },
  {
   "cell_type": "code",
   "execution_count": 5,
   "metadata": {},
   "outputs": [],
   "source": [
    "# model.eval()\n",
    "# test_loss = 0.0\n",
    "# correct = 0\n",
    "# total = 0\n",
    "# with torch.no_grad():\n",
    "#     for inputs, labels in test_loader:\n",
    "#         inputs, labels = inputs.to(device), labels.to(device)\n",
    "\n",
    "#         outputs = model(inputs)\n",
    "#         loss = criterion(outputs, labels)\n",
    "\n",
    "#         _, predicted = outputs.max(1)\n",
    "#         total += labels.size(0)\n",
    "#         correct += predicted.eq(labels).sum().item()\n",
    "#         test_loss += loss.item()\n",
    "\n",
    "#     val_accuracy = 100. * correct / total\n",
    "#     print(f'Test Loss: {test_loss/len(test_dataset):.4f}, Accuracy: {val_accuracy:.2f}%')"
   ]
  },
  {
   "cell_type": "code",
   "execution_count": 6,
   "metadata": {},
   "outputs": [
    {
     "name": "stdout",
     "output_type": "stream",
     "text": [
      "Predicted class: 0\n",
      "Predicted class: 0\n",
      "Predicted class: 0\n",
      "Predicted class: 1\n",
      "Predicted class: 1\n",
      "Predicted class: 1\n"
     ]
    }
   ],
   "source": [
    "def predict_image(image_path, model, transform, classes):\n",
    "    model.eval()\n",
    "    image = cv2.imread(image_path)\n",
    "    \n",
    "    # Resize\n",
    "    resized_img = cv2.resize(image, (256, int(image.shape[0] * 256 / image.shape[1])))\n",
    "    # Cut\n",
    "    cropped_img = resized_img[:256, :256]\n",
    "    cv2.imshow(\"../../data/query/1_.jpg\",cropped_img)\n",
    "    # Convert to numpy array to PIL image\n",
    "    cropped_img = Image.fromarray(cropped_img)\n",
    "\n",
    "    cropped_img = transform(cropped_img).unsqueeze(0)\n",
    "\n",
    "    with torch.no_grad():\n",
    "        outputs = model(cropped_img)\n",
    "        _, predicted = outputs.max(1)\n",
    "        return classes[predicted.item()]\n",
    "\n",
    "# Ví dụ dự đoán\n",
    "classes = test_dataset.classes\n",
    "img=['1.jpg','2.jpg','3.jpg','4.jpg','5.jpg','6.jpg']\n",
    "query_path='../../data/query'\n",
    "for imgage in img:\n",
    "    image_path =query_path+\"/\"+imgage\n",
    "    prediction = predict_image(image_path, model, test_transforms, classes)\n",
    "    print(f'Predicted class: {prediction}')\n",
    "    if prediction=='0':\n",
    "        # Change query_path\n",
    "        query_path_loc='../Model-Selection/data/query'\n",
    "        # Thư mục làm việc\n",
    "        working_directory = \"../../../Hierarchical-Localization/\"\n",
    "\n",
    "        # Lệnh và tham số\n",
    "        command = [\n",
    "            \"python3\",\n",
    "            \"outdoor_localize.py\",\n",
    "            \"--folder_query\", query_path_loc,\n",
    "            \"--query_name\", imgage\n",
    "        ]\n",
    "\n",
    "        # # Thực thi và thu thập kết quả\n",
    "        # result = subprocess.run(command, cwd=working_directory, text=True, capture_output=True)\n",
    "        # print(result.stdout)"
   ]
  }
 ],
 "metadata": {
  "kernelspec": {
   "display_name": "min_ds-env",
   "language": "python",
   "name": "python3"
  },
  "language_info": {
   "codemirror_mode": {
    "name": "ipython",
    "version": 3
   },
   "file_extension": ".py",
   "mimetype": "text/x-python",
   "name": "python",
   "nbconvert_exporter": "python",
   "pygments_lexer": "ipython3",
   "version": "3.10.8"
  }
 },
 "nbformat": 4,
 "nbformat_minor": 2
}
